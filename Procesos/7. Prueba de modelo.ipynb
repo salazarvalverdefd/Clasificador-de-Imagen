{
 "cells": [
  {
   "cell_type": "code",
   "execution_count": 1,
   "metadata": {},
   "outputs": [
    {
     "name": "stderr",
     "output_type": "stream",
     "text": [
      "C:\\Users\\Usuario\\Anaconda3_64\\lib\\site-packages\\h5py\\__init__.py:36: FutureWarning: Conversion of the second argument of issubdtype from `float` to `np.floating` is deprecated. In future, it will be treated as `np.float64 == np.dtype(float).type`.\n",
      "  from ._conv import register_converters as _register_converters\n",
      "Using TensorFlow backend.\n"
     ]
    }
   ],
   "source": [
    "#librerías de keras\n",
    "from keras.models import Sequential\n",
    "from keras.layers import Convolution2D\n",
    "from keras.layers import MaxPooling2D\n",
    "from keras.layers import Flatten\n",
    "from keras.layers import Dense\n",
    "\n",
    "#preprocesamiento de imagen\n",
    "from keras.preprocessing.image import ImageDataGenerator"
   ]
  },
  {
   "cell_type": "code",
   "execution_count": 2,
   "metadata": {},
   "outputs": [],
   "source": [
    "#carga modelo\n",
    "from joblib import dump, load\n",
    "classifier = load('./Model_TF1_13_1/10-classifier_1_13_1.joblib')"
   ]
  },
  {
   "cell_type": "code",
   "execution_count": 3,
   "metadata": {},
   "outputs": [],
   "source": [
    "def getPredict(clase,stepsClase):\n",
    "    test_datagen = ImageDataGenerator(rescale = 1./255)\n",
    "    test_set = test_datagen.flow_from_directory('2. Dataset_Imágenes_No Vacías/trainingSet',\n",
    "                                                target_size = (64, 64),\n",
    "                                                batch_size = 32,\n",
    "                                                classes=[clase],\n",
    "                                                class_mode = 'categorical')\n",
    "    resultClase=classifier.predict_generator(test_set,steps=stepsClase)\n",
    "    return resultClase"
   ]
  },
  {
   "cell_type": "code",
   "execution_count": 4,
   "metadata": {},
   "outputs": [
    {
     "name": "stdout",
     "output_type": "stream",
     "text": [
      "[0 0 0 0 0 0 0 0 0 0]\n",
      "Found 1308 images belonging to 1 classes.\n",
      "Bird\n",
      "320\n",
      "Found 1044 images belonging to 1 classes.\n",
      "Cat\n",
      "320\n",
      "Found 824 images belonging to 1 classes.\n",
      "Dog\n",
      "320\n",
      "Found 742 images belonging to 1 classes.\n",
      "Fish\n",
      "320\n",
      "Found 751 images belonging to 1 classes.\n",
      "Flower\n",
      "320\n",
      "Found 1067 images belonging to 1 classes.\n",
      "Food\n",
      "320\n",
      "Found 844 images belonging to 1 classes.\n",
      "Person\n",
      "320\n",
      "Found 705 images belonging to 1 classes.\n",
      "Reptil\n",
      "320\n",
      "Found 60 images belonging to 1 classes.\n",
      "Tree\n",
      "300\n",
      "Found 894 images belonging to 1 classes.\n",
      "Utensil\n",
      "320\n",
      "Matriz de confusión:\n",
      "[[281   4   5   4   4   3   5   7   0   7]\n",
      " [ 24 227   7   8   6   9  14   8   0  17]\n",
      " [ 28   6 226   8   8   3  14  14   0  13]\n",
      " [ 28   2   2 244   3   9   6   9   0  17]\n",
      " [  6   0   0   0 308   4   0   1   0   1]\n",
      " [  0   0   0   4   7 308   0   0   0   1]\n",
      " [  9   1   3   6   2   4 273   6   1  15]\n",
      " [ 17   2   5   9  12   7   4 253   0  11]\n",
      " [ 10   0   0  10  35  15   0   0 230   0]\n",
      " [ 10   1   4   3   1   5   8   5   0 283]]\n"
     ]
    }
   ],
   "source": [
    "#prueba modelo batch\n",
    "import numpy as np\n",
    "\n",
    "array=['Bird','Cat','Dog','Fish','Flower','Food','Person','Reptil','Tree','Utensil']\n",
    "numClass=len(array)\n",
    "Results=np.zeros((numClass,numClass), dtype=np.int64)\n",
    "print(Results[0])\n",
    "k=0\n",
    "for clase in array:\n",
    "    resultClase=getPredict(clase,10)\n",
    "    print(clase)\n",
    "    #print(resultClase)\n",
    "    print(len(resultClase))\n",
    "    for i in range(len(resultClase)):\n",
    "        may=0\n",
    "        pos=0\n",
    "        for j in range(len(resultClase[i])):\n",
    "            #print(resultClase[i][j])\n",
    "            if resultClase[i][j]>may:\n",
    "                pos=j\n",
    "                may=resultClase[i][j]\n",
    "        Results[k][pos]+=1\n",
    "        #print(pos)\n",
    "    #print(Results[k])\n",
    "    k+=1\n",
    "print('Matriz de confusión:')\n",
    "print(Results)"
   ]
  },
  {
   "cell_type": "code",
   "execution_count": 5,
   "metadata": {},
   "outputs": [
    {
     "name": "stdout",
     "output_type": "stream",
     "text": [
      "Métricas clase : Precision Recall F1SCORE\n",
      "Métricas Bird : [0.68038741] [0.878125] [0.76671214]\n",
      "Métricas Cat : [0.93415638] [0.709375] [0.80639432]\n",
      "Métricas Dog : [0.8968254] [0.70625] [0.79020979]\n",
      "Métricas Fish : [0.82432432] [0.7625] [0.79220779]\n",
      "Métricas Flower : [0.79792746] [0.9625] [0.87252125]\n",
      "Métricas Food : [0.83923706] [0.9625] [0.89665211]\n",
      "Métricas Person : [0.84259259] [0.853125] [0.84782609]\n",
      "Métricas Reptil : [0.8349835] [0.790625] [0.81219904]\n",
      "Métricas Tree : [0.995671] [0.76666667] [0.86629002]\n",
      "Métricas Utensil : [0.77534247] [0.884375] [0.82627737]\n",
      "Efciencia:\n",
      "\n",
      "\n",
      "Average F1-Score: [82.77289913] %\n",
      "Mean Average Precision: 84.21447579678964 %\n"
     ]
    }
   ],
   "source": [
    "#matriz de confusión\n",
    "Precision=np.zeros((numClass,1), dtype=np.float64)\n",
    "Recall=np.zeros((numClass,1), dtype=np.float64)\n",
    "F1SCORE=np.zeros((numClass,1), dtype=np.float64)\n",
    "\n",
    "AvgF1=0\n",
    "AvgP=0\n",
    "print('Métricas','clase',':','Precision', 'Recall','F1SCORE')\n",
    "for  i in range(numClass):\n",
    "    TP=Results[i][i]\n",
    "    TN=0\n",
    "    FP=0\n",
    "    FN=0\n",
    "    for j in range(numClass):\n",
    "        if i!=j:\n",
    "            TN+=Results[j][j]\n",
    "            FP+=Results[j][i]\n",
    "            FN+=Results[i][j]\n",
    "    P=TP/(TP+FP)\n",
    "    R=TP/(TP+FN)\n",
    "    Precision[i]=P\n",
    "    Recall[i]=R\n",
    "    F1SCORE[i]=(2*P*R)/(P+R)\n",
    "    print('Métricas',array[i],':',Precision[i], Recall[i],F1SCORE[i])\n",
    "    AvgF1+=F1SCORE[i]\n",
    "    AvgP+=P\n",
    "    \n",
    "#eficiencia de modelo\n",
    "print(\"Efciencia:\\n\\n\")\n",
    "AvgF1=AvgF1/numClass\n",
    "print('Average F1-Score:',AvgF1*100,'%')\n",
    "\n",
    "AvgP=AvgP/numClass\n",
    "print('Mean Average Precision:',AvgP*100,'%')"
   ]
  }
 ],
 "metadata": {
  "kernelspec": {
   "display_name": "Python 3",
   "language": "python",
   "name": "python3"
  },
  "language_info": {
   "codemirror_mode": {
    "name": "ipython",
    "version": 3
   },
   "file_extension": ".py",
   "mimetype": "text/x-python",
   "name": "python",
   "nbconvert_exporter": "python",
   "pygments_lexer": "ipython3",
   "version": "3.7.1"
  }
 },
 "nbformat": 4,
 "nbformat_minor": 2
}
