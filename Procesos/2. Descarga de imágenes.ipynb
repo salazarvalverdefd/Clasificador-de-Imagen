{
 "cells": [
  {
   "cell_type": "code",
   "execution_count": 1,
   "metadata": {},
   "outputs": [],
   "source": [
    "#cargar imagenes desde url\n",
    "import urllib.request as url\n",
    "from PIL import Image\n",
    "from io import BytesIO\n",
    "import os"
   ]
  },
  {
   "cell_type": "code",
   "execution_count": 2,
   "metadata": {},
   "outputs": [
    {
     "name": "stdout",
     "output_type": "stream",
     "text": [
      "Palmolive\n",
      "Pert Plus\n",
      "Savital\n",
      "Sedal\n",
      "Wall time: 39.9 ms\n"
     ]
    }
   ],
   "source": [
    "%%time\n",
    "#prueba existencia de archivos\n",
    "\n",
    "array=['Palmolive',\n",
    "       'Pert Plus','Savital','Sedal']\n",
    "tipoObjeto = 'Shampoo'\n",
    "for synsetName in array:\n",
    "    i=0\n",
    "    error=0\n",
    "    synsetUrls='URL_Imágenes/'+tipoObjeto+'/URL_'+tipoObjeto+'_'+synsetName+'.txt'\n",
    "    print(synsetName)\n",
    "    f = open(synsetUrls, encoding = 'utf8')\n",
    "    f.close()\n",
    "\n"
   ]
  },
  {
   "cell_type": "code",
   "execution_count": 3,
   "metadata": {
    "scrolled": true
   },
   "outputs": [
    {
     "name": "stdout",
     "output_type": "stream",
     "text": [
      "Palmolive\n",
      "num 0\n",
      "num 20\n",
      "num 40\n",
      "num 60\n",
      "num 80\n",
      "num 100\n",
      "num 120\n",
      "num 140\n",
      "num 160\n",
      "num 180\n",
      "num 200\n",
      "num 220\n",
      "num 240\n",
      "num 260\n",
      "num 280\n",
      "   Imágenes de Palmolive\n",
      "   Salvadas: 300\n",
      "   Error: 72\n",
      "Pert Plus\n",
      "num 0\n",
      "num 20\n",
      "num 40\n",
      "num 60\n",
      "num 80\n",
      "num 100\n",
      "num 120\n",
      "num 140\n",
      "num 160\n",
      "num 180\n",
      "   Imágenes de Pert Plus\n",
      "   Salvadas: 200\n",
      "   Error: 45\n",
      "Savital\n",
      "num 0\n",
      "num 20\n",
      "num 40\n",
      "num 60\n",
      "num 80\n",
      "num 100\n",
      "num 120\n",
      "num 140\n",
      "num 160\n",
      "num 180\n",
      "   Imágenes de Savital\n",
      "   Salvadas: 200\n",
      "   Error: 62\n",
      "Sedal\n",
      "num 0\n",
      "num 20\n",
      "num 40\n",
      "num 60\n",
      "num 80\n",
      "num 100\n",
      "num 120\n",
      "num 140\n",
      "num 160\n",
      "num 180\n",
      "   Imágenes de Sedal\n",
      "   Salvadas: 200\n",
      "   Error: 50\n",
      "Wall time: 17min 56s\n"
     ]
    }
   ],
   "source": [
    "%%time\n",
    "#descarga de imágenes\n",
    "for synsetName in array:\n",
    "    i=0\n",
    "    error=0\n",
    "    synsetUrls='URL_Imágenes/'+tipoObjeto+'/URL_'+tipoObjeto+'_'+synsetName+'.txt'\n",
    "    print(synsetName)\n",
    "    f = open(synsetUrls, encoding = 'utf8')\n",
    "    for Url in f:\n",
    "        #print(Url)\n",
    "        try:\n",
    "            data = url.urlopen(Url, timeout=10).read()\n",
    "            file = BytesIO(data)\n",
    "            img = Image.open(file)\n",
    "            directorio='1. Dataset_Imágenes_Original/trainingSet/'+tipoObjeto+'_'+synsetName+'/'\n",
    "            synsetImg=directorio+synsetName+'-'+str(i+1)+'.jpg'\n",
    "            try:\n",
    "                os.stat(directorio)\n",
    "            except:\n",
    "                os.makedirs(directorio)\n",
    "            img.save(synsetImg)\n",
    "        except:\n",
    "            error+=1\n",
    "        if i%20==0:\n",
    "            print('num',i)\n",
    "        i+=1\n",
    "    f.close()\n",
    "    print('   Imágenes de',synsetName)\n",
    "    print('   Salvadas:',i)\n",
    "    print('   Error:',error)\n",
    "\n"
   ]
  },
  {
   "cell_type": "code",
   "execution_count": null,
   "metadata": {},
   "outputs": [],
   "source": []
  }
 ],
 "metadata": {
  "kernelspec": {
   "display_name": "Python 3",
   "language": "python",
   "name": "python3"
  },
  "language_info": {
   "codemirror_mode": {
    "name": "ipython",
    "version": 3
   },
   "file_extension": ".py",
   "mimetype": "text/x-python",
   "name": "python",
   "nbconvert_exporter": "python",
   "pygments_lexer": "ipython3",
   "version": "3.7.1"
  }
 },
 "nbformat": 4,
 "nbformat_minor": 2
}
