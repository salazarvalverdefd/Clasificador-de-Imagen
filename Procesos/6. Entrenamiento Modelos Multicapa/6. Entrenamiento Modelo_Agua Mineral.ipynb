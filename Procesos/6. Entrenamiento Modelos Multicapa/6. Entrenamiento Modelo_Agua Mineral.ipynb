{
 "cells": [
  {
   "cell_type": "code",
   "execution_count": 1,
   "metadata": {},
   "outputs": [
    {
     "name": "stderr",
     "output_type": "stream",
     "text": [
      "Using TensorFlow backend.\n",
      "c:\\users\\dick\\2\\venv\\lib\\site-packages\\tensorflow\\python\\framework\\dtypes.py:526: FutureWarning: Passing (type, 1) or '1type' as a synonym of type is deprecated; in a future version of numpy, it will be understood as (type, (1,)) / '(1,)type'.\n",
      "  _np_qint8 = np.dtype([(\"qint8\", np.int8, 1)])\n",
      "c:\\users\\dick\\2\\venv\\lib\\site-packages\\tensorflow\\python\\framework\\dtypes.py:527: FutureWarning: Passing (type, 1) or '1type' as a synonym of type is deprecated; in a future version of numpy, it will be understood as (type, (1,)) / '(1,)type'.\n",
      "  _np_quint8 = np.dtype([(\"quint8\", np.uint8, 1)])\n",
      "c:\\users\\dick\\2\\venv\\lib\\site-packages\\tensorflow\\python\\framework\\dtypes.py:528: FutureWarning: Passing (type, 1) or '1type' as a synonym of type is deprecated; in a future version of numpy, it will be understood as (type, (1,)) / '(1,)type'.\n",
      "  _np_qint16 = np.dtype([(\"qint16\", np.int16, 1)])\n",
      "c:\\users\\dick\\2\\venv\\lib\\site-packages\\tensorflow\\python\\framework\\dtypes.py:529: FutureWarning: Passing (type, 1) or '1type' as a synonym of type is deprecated; in a future version of numpy, it will be understood as (type, (1,)) / '(1,)type'.\n",
      "  _np_quint16 = np.dtype([(\"quint16\", np.uint16, 1)])\n",
      "c:\\users\\dick\\2\\venv\\lib\\site-packages\\tensorflow\\python\\framework\\dtypes.py:530: FutureWarning: Passing (type, 1) or '1type' as a synonym of type is deprecated; in a future version of numpy, it will be understood as (type, (1,)) / '(1,)type'.\n",
      "  _np_qint32 = np.dtype([(\"qint32\", np.int32, 1)])\n",
      "c:\\users\\dick\\2\\venv\\lib\\site-packages\\tensorflow\\python\\framework\\dtypes.py:535: FutureWarning: Passing (type, 1) or '1type' as a synonym of type is deprecated; in a future version of numpy, it will be understood as (type, (1,)) / '(1,)type'.\n",
      "  np_resource = np.dtype([(\"resource\", np.ubyte, 1)])\n"
     ]
    }
   ],
   "source": [
    "#librerías de keras\n",
    "from keras.models import Sequential\n",
    "from keras.layers import Convolution2D\n",
    "from keras.layers import MaxPooling2D\n",
    "from keras.layers import Flatten\n",
    "from keras.layers import Dense\n",
    "\n",
    "#preprocesamiento de imagen\n",
    "from keras.preprocessing.image import ImageDataGenerator"
   ]
  },
  {
   "cell_type": "code",
   "execution_count": 2,
   "metadata": {
    "scrolled": true
   },
   "outputs": [
    {
     "name": "stderr",
     "output_type": "stream",
     "text": [
      "c:\\users\\dick\\2\\venv\\lib\\site-packages\\ipykernel_launcher.py:6: UserWarning: Update your `Conv2D` call to the Keras 2 API: `Conv2D(32, (3, 3), input_shape=(64, 64, 3..., activation=\"relu\")`\n",
      "  \n"
     ]
    },
    {
     "name": "stdout",
     "output_type": "stream",
     "text": [
      "WARNING:tensorflow:From c:\\users\\dick\\2\\venv\\lib\\site-packages\\tensorflow\\python\\ops\\resource_variable_ops.py:435: colocate_with (from tensorflow.python.framework.ops) is deprecated and will be removed in a future version.\n",
      "Instructions for updating:\n",
      "Colocations handled automatically by placer.\n"
     ]
    },
    {
     "name": "stderr",
     "output_type": "stream",
     "text": [
      "c:\\users\\dick\\2\\venv\\lib\\site-packages\\ipykernel_launcher.py:12: UserWarning: Update your `Conv2D` call to the Keras 2 API: `Conv2D(32, (3, 3), activation=\"relu\")`\n",
      "  if sys.path[0] == '':\n",
      "c:\\users\\dick\\2\\venv\\lib\\site-packages\\ipykernel_launcher.py:19: UserWarning: Update your `Dense` call to the Keras 2 API: `Dense(activation=\"relu\", units=128)`\n",
      "c:\\users\\dick\\2\\venv\\lib\\site-packages\\ipykernel_launcher.py:20: UserWarning: Update your `Dense` call to the Keras 2 API: `Dense(activation=\"sigmoid\", units=5)`\n"
     ]
    },
    {
     "name": "stdout",
     "output_type": "stream",
     "text": [
      "Found 542 images belonging to 5 classes.\n",
      "WARNING:tensorflow:From c:\\users\\dick\\2\\venv\\lib\\site-packages\\tensorflow\\python\\ops\\math_ops.py:3066: to_int32 (from tensorflow.python.ops.math_ops) is deprecated and will be removed in a future version.\n",
      "Instructions for updating:\n",
      "Use tf.cast instead.\n"
     ]
    },
    {
     "name": "stderr",
     "output_type": "stream",
     "text": [
      "c:\\users\\dick\\2\\venv\\lib\\site-packages\\ipykernel_launcher.py:43: UserWarning: The semantics of the Keras 2 argument `steps_per_epoch` is not the same as the Keras 1 argument `samples_per_epoch`. `steps_per_epoch` is the number of batches to draw from the generator at each epoch. Basically steps_per_epoch = samples_per_epoch/batch_size. Similarly `nb_val_samples`->`validation_steps` and `val_samples`->`steps` arguments have changed. Update your method calls accordingly.\n",
      "c:\\users\\dick\\2\\venv\\lib\\site-packages\\ipykernel_launcher.py:43: UserWarning: Update your `fit_generator` call to the Keras 2 API: `fit_generator(<keras.pre..., steps_per_epoch=250, epochs=25, validation_steps=2000)`\n"
     ]
    },
    {
     "name": "stdout",
     "output_type": "stream",
     "text": [
      "Epoch 1/25\n",
      "250/250 [==============================] - 95s 379ms/step - loss: 0.4557 - accuracy: 0.8104\n",
      "Epoch 2/25\n",
      "250/250 [==============================] - 94s 376ms/step - loss: 0.3311 - accuracy: 0.8592\n",
      "Epoch 3/25\n",
      "250/250 [==============================] - 121s 485ms/step - loss: 0.2342 - accuracy: 0.9026\n",
      "Epoch 4/25\n",
      "250/250 [==============================] - 129s 517ms/step - loss: 0.1826 - accuracy: 0.9252\n",
      "Epoch 5/25\n",
      "250/250 [==============================] - 129s 516ms/step - loss: 0.1489 - accuracy: 0.9379\n",
      "Epoch 6/25\n",
      "250/250 [==============================] - 105s 418ms/step - loss: 0.1296 - accuracy: 0.9440\n",
      "Epoch 7/25\n",
      "250/250 [==============================] - 84s 337ms/step - loss: 0.1220 - accuracy: 0.9464\n",
      "Epoch 8/25\n",
      "250/250 [==============================] - 83s 333ms/step - loss: 0.1097 - accuracy: 0.9507\n",
      "Epoch 9/25\n",
      "250/250 [==============================] - 81s 323ms/step - loss: 0.1031 - accuracy: 0.9521\n",
      "Epoch 10/25\n",
      "250/250 [==============================] - 83s 330ms/step - loss: 0.0998 - accuracy: 0.9522\n",
      "Epoch 11/25\n",
      "250/250 [==============================] - 88s 353ms/step - loss: 0.0945 - accuracy: 0.9537\n",
      "Epoch 12/25\n",
      "250/250 [==============================] - 83s 330ms/step - loss: 0.0909 - accuracy: 0.9554\n",
      "Epoch 13/25\n",
      "250/250 [==============================] - 80s 319ms/step - loss: 0.0894 - accuracy: 0.9549\n",
      "Epoch 14/25\n",
      "250/250 [==============================] - 82s 330ms/step - loss: 0.0877 - accuracy: 0.9549\n",
      "Epoch 15/25\n",
      "250/250 [==============================] - 82s 327ms/step - loss: 0.0835 - accuracy: 0.9557\n",
      "Epoch 16/25\n",
      "250/250 [==============================] - 81s 325ms/step - loss: 0.0832 - accuracy: 0.9569\n",
      "Epoch 17/25\n",
      "250/250 [==============================] - 85s 339ms/step - loss: 0.0813 - accuracy: 0.9573\n",
      "Epoch 18/25\n",
      "250/250 [==============================] - 82s 327ms/step - loss: 0.0793 - accuracy: 0.9570\n",
      "Epoch 19/25\n",
      "250/250 [==============================] - 81s 326ms/step - loss: 0.0760 - accuracy: 0.9593\n",
      "Epoch 20/25\n",
      "250/250 [==============================] - 80s 320ms/step - loss: 0.0783 - accuracy: 0.9586\n",
      "Epoch 21/25\n",
      "250/250 [==============================] - 82s 328ms/step - loss: 0.0767 - accuracy: 0.9584\n",
      "Epoch 22/25\n",
      "250/250 [==============================] - 80s 321ms/step - loss: 0.0766 - accuracy: 0.9585\n",
      "Epoch 23/25\n",
      "250/250 [==============================] - 77s 309ms/step - loss: 0.0740 - accuracy: 0.9592\n",
      "Epoch 24/25\n",
      "250/250 [==============================] - 79s 315ms/step - loss: 0.0745 - accuracy: 0.9581\n",
      "Epoch 25/25\n",
      "250/250 [==============================] - 78s 314ms/step - loss: 0.0717 - accuracy: 0.9599\n",
      "Wall time: 37min 8s\n"
     ]
    },
    {
     "data": {
      "text/plain": [
       "<keras.callbacks.callbacks.History at 0x1cd40369710>"
      ]
     },
     "execution_count": 2,
     "metadata": {},
     "output_type": "execute_result"
    }
   ],
   "source": [
    "%%time\n",
    "#### ENTRENAR MODELO SEGUNDO NIVEL ####\n",
    "Entrenar='Agua Mineral'\n",
    "numClases=5\n",
    "classifier = Sequential()\n",
    "\n",
    "# Step 1 - Convolution\n",
    "classifier.add(Convolution2D(32, 3, 3, input_shape = (64, 64, 3), activation = 'relu'))\n",
    "\n",
    "# Step 2 - Pooling\n",
    "classifier.add(MaxPooling2D(pool_size = (2, 2)))\n",
    "\n",
    "# Adding a second convolutional layer\n",
    "classifier.add(Convolution2D(32, 3, 3, activation = 'relu'))\n",
    "classifier.add(MaxPooling2D(pool_size = (2, 2)))\n",
    "\n",
    "# Step 3 - Flattening\n",
    "classifier.add(Flatten())\n",
    "\n",
    "# Step 4 - Full connection\n",
    "classifier.add(Dense(output_dim = 128, activation = 'relu'))\n",
    "classifier.add(Dense(output_dim = numClases, activation = 'sigmoid'))\n",
    "\n",
    "# Compiling the CNN\n",
    "classifier.compile(optimizer = 'adam', loss = 'binary_crossentropy', metrics = ['accuracy'])\n",
    "\n",
    "# Part 2 - Fitting the CNN to the images\n",
    "\n",
    "train_datagen = ImageDataGenerator(rescale = 1./255,\n",
    "                                   shear_range = 0.2,\n",
    "                                   zoom_range = 0.2,\n",
    "                                   horizontal_flip = True)\n",
    "\n",
    "test_datagen = ImageDataGenerator(rescale = 1./255)\n",
    "\n",
    "training_set = train_datagen.flow_from_directory(Entrenar,\n",
    "                                                 target_size = (64, 64),\n",
    "                                                 batch_size = 32,\n",
    "                                                 class_mode = 'categorical')\n",
    "\n",
    "\n",
    "classifier.fit_generator(training_set,\n",
    "                         samples_per_epoch = 8000,\n",
    "                         nb_epoch = 25,\n",
    "                         nb_val_samples = 2000)"
   ]
  },
  {
   "cell_type": "code",
   "execution_count": 6,
   "metadata": {},
   "outputs": [
    {
     "name": "stdout",
     "output_type": "stream",
     "text": [
      "1.13.1\n",
      "inputs:  ['conv2d_1_input']\n",
      "outputs:  ['dense_2/Sigmoid']\n",
      "INFO:tensorflow:Froze 39 variables.\n",
      "INFO:tensorflow:Converted 39 variables to const ops.\n"
     ]
    },
    {
     "data": {
      "text/plain": [
       "'./SegundoNivel/Agua Mineral.pb'"
      ]
     },
     "execution_count": 6,
     "metadata": {},
     "output_type": "execute_result"
    }
   ],
   "source": [
    "import numpy as np\n",
    "import tensorflow as tf\n",
    "\n",
    "print(tf.__version__)\n",
    "def freeze_session(session, keep_var_names=None, output_names=None, clear_devices=True):\n",
    "    \n",
    "    graph = session.graph\n",
    "    with graph.as_default():\n",
    "        freeze_var_names = list(set(v.op.name for v in tf.global_variables()).difference(keep_var_names or []))\n",
    "        output_names = output_names or []\n",
    "        output_names += [v.op.name for v in tf.global_variables()]\n",
    "        input_graph_def = graph.as_graph_def()\n",
    "        if clear_devices:\n",
    "            for node in input_graph_def.node:\n",
    "                node.device = ''\n",
    "        frozen_graph = tf.graph_util.convert_variables_to_constants(\n",
    "            session, input_graph_def, output_names, freeze_var_names)\n",
    "        return frozen_graph\n",
    "\n",
    "print('inputs: ', [input.op.name for input in classifier.inputs])\n",
    "\n",
    "print('outputs: ', [output.op.name for output in classifier.outputs])\n",
    "\n",
    "classifier.save('./SegundoNivel/'+Entrenar+'.h5')\n",
    "\n",
    "frozen_graph = freeze_session(tf.keras.backend.get_session(), output_names=[out.op.name for out in classifier.outputs])\n",
    "tf.train.write_graph(frozen_graph, './SegundoNivel/',Entrenar+'.pbtxt', as_text=True)\n",
    "tf.train.write_graph(frozen_graph, './SegundoNivel/',Entrenar+'.pb', as_text=False)"
   ]
  },
  {
   "cell_type": "code",
   "execution_count": 7,
   "metadata": {},
   "outputs": [
    {
     "name": "stdout",
     "output_type": "stream",
     "text": [
      "Wall time: 898 ms\n"
     ]
    },
    {
     "data": {
      "text/plain": [
       "['./SegundoNivel/Agua Mineral.joblib']"
      ]
     },
     "execution_count": 7,
     "metadata": {},
     "output_type": "execute_result"
    }
   ],
   "source": [
    "%%time\n",
    "#guarda modelo\n",
    "from joblib import dump, load\n",
    "dump(classifier, './SegundoNivel/'+Entrenar+'.joblib')"
   ]
  },
  {
   "cell_type": "code",
   "execution_count": 8,
   "metadata": {},
   "outputs": [],
   "source": [
    "#carga modelo\n",
    "classifier = load('./SegundoNivel/'+Entrenar+'.joblib')"
   ]
  }
 ],
 "metadata": {
  "kernelspec": {
   "display_name": "Python 3",
   "language": "python",
   "name": "python3"
  },
  "language_info": {
   "codemirror_mode": {
    "name": "ipython",
    "version": 3
   },
   "file_extension": ".py",
   "mimetype": "text/x-python",
   "name": "python",
   "nbconvert_exporter": "python",
   "pygments_lexer": "ipython3",
   "version": "3.7.1"
  }
 },
 "nbformat": 4,
 "nbformat_minor": 2
}
