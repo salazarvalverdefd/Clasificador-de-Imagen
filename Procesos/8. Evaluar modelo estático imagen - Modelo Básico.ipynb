{
 "cells": [
  {
   "cell_type": "code",
   "execution_count": 1,
   "metadata": {},
   "outputs": [
    {
     "name": "stderr",
     "output_type": "stream",
     "text": [
      "c:\\users\\dick\\2\\venv\\lib\\site-packages\\tensorflow\\python\\framework\\dtypes.py:526: FutureWarning: Passing (type, 1) or '1type' as a synonym of type is deprecated; in a future version of numpy, it will be understood as (type, (1,)) / '(1,)type'.\n",
      "  _np_qint8 = np.dtype([(\"qint8\", np.int8, 1)])\n",
      "c:\\users\\dick\\2\\venv\\lib\\site-packages\\tensorflow\\python\\framework\\dtypes.py:527: FutureWarning: Passing (type, 1) or '1type' as a synonym of type is deprecated; in a future version of numpy, it will be understood as (type, (1,)) / '(1,)type'.\n",
      "  _np_quint8 = np.dtype([(\"quint8\", np.uint8, 1)])\n",
      "c:\\users\\dick\\2\\venv\\lib\\site-packages\\tensorflow\\python\\framework\\dtypes.py:528: FutureWarning: Passing (type, 1) or '1type' as a synonym of type is deprecated; in a future version of numpy, it will be understood as (type, (1,)) / '(1,)type'.\n",
      "  _np_qint16 = np.dtype([(\"qint16\", np.int16, 1)])\n",
      "c:\\users\\dick\\2\\venv\\lib\\site-packages\\tensorflow\\python\\framework\\dtypes.py:529: FutureWarning: Passing (type, 1) or '1type' as a synonym of type is deprecated; in a future version of numpy, it will be understood as (type, (1,)) / '(1,)type'.\n",
      "  _np_quint16 = np.dtype([(\"quint16\", np.uint16, 1)])\n",
      "c:\\users\\dick\\2\\venv\\lib\\site-packages\\tensorflow\\python\\framework\\dtypes.py:530: FutureWarning: Passing (type, 1) or '1type' as a synonym of type is deprecated; in a future version of numpy, it will be understood as (type, (1,)) / '(1,)type'.\n",
      "  _np_qint32 = np.dtype([(\"qint32\", np.int32, 1)])\n",
      "c:\\users\\dick\\2\\venv\\lib\\site-packages\\tensorflow\\python\\framework\\dtypes.py:535: FutureWarning: Passing (type, 1) or '1type' as a synonym of type is deprecated; in a future version of numpy, it will be understood as (type, (1,)) / '(1,)type'.\n",
      "  np_resource = np.dtype([(\"resource\", np.ubyte, 1)])\n"
     ]
    }
   ],
   "source": [
    "from __future__ import absolute_import\n",
    "from __future__ import division\n",
    "from __future__ import print_function\n",
    "\n",
    "import argparse\n",
    "import sys\n",
    "import time\n",
    "\n",
    "import numpy as np\n",
    "import tensorflow as tf\n",
    "#import tensorflow.compat.v1 as tf"
   ]
  },
  {
   "cell_type": "code",
   "execution_count": 4,
   "metadata": {},
   "outputs": [
    {
     "name": "stdout",
     "output_type": "stream",
     "text": [
      "jpg\n",
      "\n",
      "Evaluation time (1-image): 0.133s\n",
      "\n",
      "Perro (score=0.84811)\n",
      "Gato (score=0.24164)\n",
      "Ave (score=0.10057)\n",
      "Persona (score=0.05738)\n",
      "Reptil (score=0.01254)\n"
     ]
    }
   ],
   "source": [
    "\n",
    "def load_graph(model_file):\n",
    "    graph = tf.Graph()\n",
    "    graph_def = tf.GraphDef()\n",
    "    with open(model_file, \"rb\") as f:\n",
    "        graph_def.ParseFromString(f.read())\n",
    "    with graph.as_default():\n",
    "        tf.import_graph_def(graph_def)\n",
    "\n",
    "    return graph\n",
    "\n",
    "def read_tensor_from_image_file(file_name, input_height=299, input_width=299, input_mean=0, input_std=255):\n",
    "    input_name = \"file_reader\"\n",
    "    output_name = \"normalized\"\n",
    "    file_reader = tf.io.read_file(file_name, input_name)\n",
    "    if file_name.endswith(\".png\"):\n",
    "        image_reader = tf.image.decode_png(file_reader, channels = 3, name='png_reader')\n",
    "    elif file_name.endswith(\".gif\"):\n",
    "        image_reader = tf.squeeze(tf.image.decode_gif(file_reader, name='gif_reader'))\n",
    "    elif file_name.endswith(\".bmp\"):\n",
    "        image_reader = tf.image.decode_bmp(file_reader, name='bmp_reader')\n",
    "    else:\n",
    "        image_reader = tf.image.decode_jpeg(file_reader, channels = 3, name='jpeg_reader')\n",
    "        print('jpg')\n",
    "    float_caster = tf.cast(image_reader, tf.float32)\n",
    "    dims_expander = tf.expand_dims(float_caster, 0);\n",
    "    resized = tf.image.resize(dims_expander, [input_height, input_width], method=tf.image.ResizeMethod.BILINEAR)\n",
    "    normalized = tf.divide(tf.subtract(resized, [input_mean]), [input_std])\n",
    "    sess = tf.compat.v1.Session()\n",
    "    result = sess.run(normalized)\n",
    "    return result\n",
    "\n",
    "def load_labels(label_file):\n",
    "    label = []\n",
    "    proto_as_ascii_lines = tf.io.gfile.GFile(label_file).readlines()\n",
    "    for l in proto_as_ascii_lines:\n",
    "        label.append(l.rstrip())\n",
    "    return label\n",
    "\n",
    "if __name__ == \"__main__\":\n",
    "    file_name = \"./Prueba/Perro.jpg\"\n",
    "    #model_file = \"optimized_graph.pb\"\n",
    "    model_file = \"./Model_TF1_13_1/10-classifier_1_13_1.pb\"\n",
    "    label_file = \"./Model_TF1_13_1/10-labels.txt\"\n",
    "    input_height = 64\n",
    "    input_width = 64\n",
    "    input_mean = 0\n",
    "    input_std = 255\n",
    "\n",
    "    input_layer = \"conv2d_1_input\"\n",
    "    output_layer = \"dense_2/Sigmoid\"\n",
    "    graph = load_graph(model_file)\n",
    "    t = read_tensor_from_image_file(file_name,\n",
    "                                  input_height=input_height,\n",
    "                                  input_width=input_width,\n",
    "                                  input_mean=input_mean,\n",
    "                                  input_std=input_std)\n",
    "\n",
    "    input_name = \"import/\" + input_layer\n",
    "    output_name = \"import/\" + output_layer\n",
    "    #print(graph.get_operations())\n",
    "    input_operation = graph.get_operation_by_name(input_name);\n",
    "    output_operation = graph.get_operation_by_name(output_name);\n",
    "\n",
    "    with tf.compat.v1.Session(graph=graph) as sess:\n",
    "        start = time.time()\n",
    "        results = sess.run(output_operation.outputs[0],\n",
    "                          {input_operation.outputs[0]: t})\n",
    "        end=time.time()\n",
    "    #print(results)\n",
    "    results = np.squeeze(results)\n",
    "    #print(results)\n",
    "    top_k = results.argsort()[-5:][::-1]\n",
    "    labels = load_labels(label_file)\n",
    "    #print(labels)\n",
    "\n",
    "    print('\\nEvaluation time (1-image): {:.3f}s\\n'.format(end-start))\n",
    "    template = \"{} (score={:0.5f})\"\n",
    "    for i in top_k:\n",
    "        #print(i)\n",
    "        print(template.format(labels[i], results[i]))\n",
    "\n"
   ]
  },
  {
   "cell_type": "code",
   "execution_count": null,
   "metadata": {},
   "outputs": [],
   "source": []
  }
 ],
 "metadata": {
  "kernelspec": {
   "display_name": "Python 3",
   "language": "python",
   "name": "python3"
  },
  "language_info": {
   "codemirror_mode": {
    "name": "ipython",
    "version": 3
   },
   "file_extension": ".py",
   "mimetype": "text/x-python",
   "name": "python",
   "nbconvert_exporter": "python",
   "pygments_lexer": "ipython3",
   "version": "3.7.1"
  }
 },
 "nbformat": 4,
 "nbformat_minor": 2
}
